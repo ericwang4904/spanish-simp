{
 "cells": [
  {
   "cell_type": "code",
   "execution_count": 84,
   "metadata": {},
   "outputs": [],
   "source": [
    "# using BEA dataset at https://github.com/sheffieldnlp/cwisharedtask2018-teaching\n",
    "import pandas as pd\n",
    "import numpy as np\n",
    "import nltk\n",
    "import spacy\n",
    "\n",
    "from joblib import dump, load\n",
    "\n",
    "from sklearn.ensemble import RandomForestClassifier\n",
    "from sklearn.model_selection import train_test_split\n",
    "from sklearn.metrics import mean_absolute_error, mean_squared_error\n",
    "\n",
    "from scipy.stats import pearsonr, spearmanr\n",
    "\n",
    "from nltk.stem import WordNetLemmatizer\n",
    "from nltk import wordnet\n"
   ]
  },
  {
   "cell_type": "code",
   "execution_count": null,
   "metadata": {},
   "outputs": [],
   "source": [
    "ES_AVG_WORD_LEN = 6.2"
   ]
  },
  {
   "cell_type": "code",
   "execution_count": 85,
   "metadata": {},
   "outputs": [
    {
     "name": "stderr",
     "output_type": "stream",
     "text": [
      "[nltk_data] Downloading package wordnet to /Users/eriwang/nltk_data...\n",
      "[nltk_data]   Package wordnet is already up-to-date!\n"
     ]
    },
    {
     "data": {
      "text/plain": [
       "True"
      ]
     },
     "execution_count": 85,
     "metadata": {},
     "output_type": "execute_result"
    }
   ],
   "source": [
    "nltk.download('wordnet')"
   ]
  },
  {
   "cell_type": "markdown",
   "metadata": {},
   "source": [
    "## Setup Features"
   ]
  },
  {
   "cell_type": "code",
   "execution_count": 86,
   "metadata": {},
   "outputs": [
    {
     "data": {
      "text/html": [
       "<div>\n",
       "<style scoped>\n",
       "    .dataframe tbody tr th:only-of-type {\n",
       "        vertical-align: middle;\n",
       "    }\n",
       "\n",
       "    .dataframe tbody tr th {\n",
       "        vertical-align: top;\n",
       "    }\n",
       "\n",
       "    .dataframe thead th {\n",
       "        text-align: right;\n",
       "    }\n",
       "</style>\n",
       "<table border=\"1\" class=\"dataframe\">\n",
       "  <thead>\n",
       "    <tr style=\"text-align: right;\">\n",
       "      <th></th>\n",
       "      <th>sent</th>\n",
       "      <th>target</th>\n",
       "      <th>bin</th>\n",
       "      <th>prob</th>\n",
       "    </tr>\n",
       "  </thead>\n",
       "  <tbody>\n",
       "    <tr>\n",
       "      <th>0</th>\n",
       "      <td>Los Bronces de Riace conocidos también como Lo...</td>\n",
       "      <td>Los Bronces de Riace</td>\n",
       "      <td>1</td>\n",
       "      <td>0.1</td>\n",
       "    </tr>\n",
       "    <tr>\n",
       "      <th>1</th>\n",
       "      <td>Los Bronces de Riace conocidos también como Lo...</td>\n",
       "      <td>Bronces</td>\n",
       "      <td>1</td>\n",
       "      <td>0.2</td>\n",
       "    </tr>\n",
       "    <tr>\n",
       "      <th>2</th>\n",
       "      <td>Los Bronces de Riace conocidos también como Lo...</td>\n",
       "      <td>Riace</td>\n",
       "      <td>1</td>\n",
       "      <td>0.3</td>\n",
       "    </tr>\n",
       "  </tbody>\n",
       "</table>\n",
       "</div>"
      ],
      "text/plain": [
       "                                                sent                target  \\\n",
       "0  Los Bronces de Riace conocidos también como Lo...  Los Bronces de Riace   \n",
       "1  Los Bronces de Riace conocidos también como Lo...               Bronces   \n",
       "2  Los Bronces de Riace conocidos también como Lo...                 Riace   \n",
       "\n",
       "   bin  prob  \n",
       "0    1   0.1  \n",
       "1    1   0.2  \n",
       "2    1   0.3  "
      ]
     },
     "execution_count": 86,
     "metadata": {},
     "output_type": "execute_result"
    }
   ],
   "source": [
    "PATH = '../../cwisharedtask2018-teaching/datasets/spanish'\n",
    "names = ['HIT ID', 'sent', 'start_offset', 'end_offset', 'target', 'native', 'non_native', 'native_diff', 'non_native_diff', 'bin', 'prob']\n",
    "TO_KEEP = ['sent', 'target', 'bin', 'prob']\n",
    "\n",
    "# see https://sites.google.com/view/cwisharedtask2018/datasets\n",
    "dev_df = pd.read_csv(f'{PATH}/Spanish_Dev.tsv', sep='\\t', names=names)  # to be honest I dunno what this is for\n",
    "train_df = pd.read_csv(f'{PATH}/Spanish_Train.tsv', sep='\\t', names=names)\n",
    "test_df = pd.read_csv(f'{PATH}/Spanish_Test.tsv', sep='\\t', names=names)\n",
    "\n",
    "dev_df = dev_df[TO_KEEP]\n",
    "train_df = train_df[TO_KEEP]\n",
    "test_df = test_df[TO_KEEP]\n",
    "\n",
    "dev_df[:3]"
   ]
  },
  {
   "cell_type": "code",
   "execution_count": 87,
   "metadata": {},
   "outputs": [],
   "source": [
    "wnl = WordNetLemmatizer()\n",
    "\n",
    "fdata = pd.read_csv('../features/span_40k_lemmas.txt', sep='\\t')\n",
    "fdata = dict(zip(fdata['lemma'],fdata['freq']))"
   ]
  },
  {
   "cell_type": "code",
   "execution_count": 96,
   "metadata": {},
   "outputs": [
    {
     "ename": "TypeError",
     "evalue": "object of type 'method_descriptor' has no len()",
     "output_type": "error",
     "traceback": [
      "\u001b[0;31m---------------------------------------------------------------------------\u001b[0m",
      "\u001b[0;31mTypeError\u001b[0m                                 Traceback (most recent call last)",
      "\u001b[1;32m/Users/eriwang/Desktop/Software Engineering/spanish-simp/src/dev/train_lcp.ipynb Cell 7\u001b[0m line \u001b[0;36m2\n\u001b[1;32m     <a href='vscode-notebook-cell:/Users/eriwang/Desktop/Software%20Engineering/spanish-simp/src/dev/train_lcp.ipynb#W5sZmlsZQ%3D%3D?line=19'>20</a>\u001b[0m     df_out[\u001b[39m'\u001b[39m\u001b[39mlemma_freq\u001b[39m\u001b[39m'\u001b[39m] \u001b[39m=\u001b[39m df[\u001b[39m'\u001b[39m\u001b[39mlemma\u001b[39m\u001b[39m'\u001b[39m]\u001b[39m.\u001b[39mapply(return_freq)\n\u001b[1;32m     <a href='vscode-notebook-cell:/Users/eriwang/Desktop/Software%20Engineering/spanish-simp/src/dev/train_lcp.ipynb#W5sZmlsZQ%3D%3D?line=21'>22</a>\u001b[0m     \u001b[39mreturn\u001b[39;00m df_out\n\u001b[0;32m---> <a href='vscode-notebook-cell:/Users/eriwang/Desktop/Software%20Engineering/spanish-simp/src/dev/train_lcp.ipynb#W5sZmlsZQ%3D%3D?line=24'>25</a>\u001b[0m dev_df \u001b[39m=\u001b[39m add_statistical_features(dev_df)\n\u001b[1;32m     <a href='vscode-notebook-cell:/Users/eriwang/Desktop/Software%20Engineering/spanish-simp/src/dev/train_lcp.ipynb#W5sZmlsZQ%3D%3D?line=25'>26</a>\u001b[0m train_df \u001b[39m=\u001b[39m add_statistical_features(dev_df)\n\u001b[1;32m     <a href='vscode-notebook-cell:/Users/eriwang/Desktop/Software%20Engineering/spanish-simp/src/dev/train_lcp.ipynb#W5sZmlsZQ%3D%3D?line=26'>27</a>\u001b[0m test_df \u001b[39m=\u001b[39m add_statistical_features(dev_df)\n",
      "\u001b[1;32m/Users/eriwang/Desktop/Software Engineering/spanish-simp/src/dev/train_lcp.ipynb Cell 7\u001b[0m line \u001b[0;36m1\n\u001b[1;32m     <a href='vscode-notebook-cell:/Users/eriwang/Desktop/Software%20Engineering/spanish-simp/src/dev/train_lcp.ipynb#W5sZmlsZQ%3D%3D?line=13'>14</a>\u001b[0m df_out \u001b[39m=\u001b[39m df\n\u001b[1;32m     <a href='vscode-notebook-cell:/Users/eriwang/Desktop/Software%20Engineering/spanish-simp/src/dev/train_lcp.ipynb#W5sZmlsZQ%3D%3D?line=15'>16</a>\u001b[0m df_out[\u001b[39m'\u001b[39m\u001b[39m'\u001b[39m] \u001b[39m=\u001b[39m df[\u001b[39m'\u001b[39m\u001b[39mtarget\u001b[39m\u001b[39m'\u001b[39m]\u001b[39m.\u001b[39mapply(\u001b[39mlen\u001b[39m)\n\u001b[0;32m---> <a href='vscode-notebook-cell:/Users/eriwang/Desktop/Software%20Engineering/spanish-simp/src/dev/train_lcp.ipynb#W5sZmlsZQ%3D%3D?line=16'>17</a>\u001b[0m df_out[\u001b[39m'\u001b[39m\u001b[39mnum_tokens\u001b[39m\u001b[39m'\u001b[39m] \u001b[39m=\u001b[39m df[\u001b[39m'\u001b[39m\u001b[39mtarget\u001b[39m\u001b[39m'\u001b[39m]\u001b[39m.\u001b[39mapply(\u001b[39mlen\u001b[39;49m(\u001b[39mstr\u001b[39;49m\u001b[39m.\u001b[39;49msplit), sep\u001b[39m=\u001b[39m\u001b[39m\"\u001b[39m\u001b[39m \u001b[39m\u001b[39m\"\u001b[39m)\n\u001b[1;32m     <a href='vscode-notebook-cell:/Users/eriwang/Desktop/Software%20Engineering/spanish-simp/src/dev/train_lcp.ipynb#W5sZmlsZQ%3D%3D?line=17'>18</a>\u001b[0m df_out[\u001b[39m'\u001b[39m\u001b[39mlemma\u001b[39m\u001b[39m'\u001b[39m] \u001b[39m=\u001b[39m df[\u001b[39m'\u001b[39m\u001b[39mtarget\u001b[39m\u001b[39m'\u001b[39m]\u001b[39m.\u001b[39mapply(wnl\u001b[39m.\u001b[39mlemmatize)\n\u001b[1;32m     <a href='vscode-notebook-cell:/Users/eriwang/Desktop/Software%20Engineering/spanish-simp/src/dev/train_lcp.ipynb#W5sZmlsZQ%3D%3D?line=18'>19</a>\u001b[0m df_out[\u001b[39m'\u001b[39m\u001b[39mpos_tag\u001b[39m\u001b[39m'\u001b[39m] \u001b[39m=\u001b[39m df[\u001b[39m'\u001b[39m\u001b[39mtarget\u001b[39m\u001b[39m'\u001b[39m]\u001b[39m.\u001b[39mapply(get_wordnet_tag)\n",
      "\u001b[0;31mTypeError\u001b[0m: object of type 'method_descriptor' has no len()"
     ]
    }
   ],
   "source": [
    "def return_freq(lemma):\n",
    "    try:\n",
    "        return fdata[lemma]\n",
    "    except:\n",
    "        return 0\n",
    "\n",
    "def get_wordnet_tag(word):\n",
    "    treebank_tag = nltk.pos_tag([word])  # list weirdness to fix function input\n",
    "    treebank_tag = treebank_tag[0][1]\n",
    "    \n",
    "    return treebank_tag\n",
    "\n",
    "def add_statistical_features(df):\n",
    "    df_out = df\n",
    "\n",
    "    df_out[''] = df['target'].apply(len)\n",
    "    df_out['num_tokens'] = df['target'].apply(str.split, sep=\" \")\n",
    "    df_out['num_tokens'] = df['num_tokens'].apply(len)\n",
    "\n",
    "    df_out['lemma'] = df['target'].apply(wnl.lemmatize)\n",
    "    df_out['pos_tag'] = df['target'].apply(get_wordnet_tag)\n",
    "    df_out['lemma_freq'] = df['lemma'].apply(return_freq)\n",
    "    \n",
    "    return df_out\n",
    "\n",
    "\n",
    "dev_df = add_statistical_features(dev_df)\n",
    "train_df = add_statistical_features(dev_df)\n",
    "test_df = add_statistical_features(dev_df)\n",
    "dev_df[:3]"
   ]
  },
  {
   "cell_type": "code",
   "execution_count": 89,
   "metadata": {},
   "outputs": [],
   "source": [
    "INDEP = ['target_len', 'lemma_freq']\n",
    "DEP = ['prob']\n",
    "\n",
    "X_train = train_df.loc[:, INDEP] \n",
    "y_train = train_df.loc[:, DEP]\n",
    "X_test = test_df.loc[:, INDEP]\n",
    "y_test = test_df.loc[:, DEP]"
   ]
  },
  {
   "cell_type": "code",
   "execution_count": 90,
   "metadata": {},
   "outputs": [
    {
     "name": "stderr",
     "output_type": "stream",
     "text": [
      "/Users/eriwang/miniforge3/lib/python3.10/site-packages/sklearn/ensemble/_gb.py:424: DataConversionWarning: A column-vector y was passed when a 1d array was expected. Please change the shape of y to (n_samples, ), for example using ravel().\n",
      "  y = column_or_1d(y, warn=True)\n"
     ]
    },
    {
     "data": {
      "text/html": [
       "<style>#sk-container-id-7 {color: black;}#sk-container-id-7 pre{padding: 0;}#sk-container-id-7 div.sk-toggleable {background-color: white;}#sk-container-id-7 label.sk-toggleable__label {cursor: pointer;display: block;width: 100%;margin-bottom: 0;padding: 0.3em;box-sizing: border-box;text-align: center;}#sk-container-id-7 label.sk-toggleable__label-arrow:before {content: \"▸\";float: left;margin-right: 0.25em;color: #696969;}#sk-container-id-7 label.sk-toggleable__label-arrow:hover:before {color: black;}#sk-container-id-7 div.sk-estimator:hover label.sk-toggleable__label-arrow:before {color: black;}#sk-container-id-7 div.sk-toggleable__content {max-height: 0;max-width: 0;overflow: hidden;text-align: left;background-color: #f0f8ff;}#sk-container-id-7 div.sk-toggleable__content pre {margin: 0.2em;color: black;border-radius: 0.25em;background-color: #f0f8ff;}#sk-container-id-7 input.sk-toggleable__control:checked~div.sk-toggleable__content {max-height: 200px;max-width: 100%;overflow: auto;}#sk-container-id-7 input.sk-toggleable__control:checked~label.sk-toggleable__label-arrow:before {content: \"▾\";}#sk-container-id-7 div.sk-estimator input.sk-toggleable__control:checked~label.sk-toggleable__label {background-color: #d4ebff;}#sk-container-id-7 div.sk-label input.sk-toggleable__control:checked~label.sk-toggleable__label {background-color: #d4ebff;}#sk-container-id-7 input.sk-hidden--visually {border: 0;clip: rect(1px 1px 1px 1px);clip: rect(1px, 1px, 1px, 1px);height: 1px;margin: -1px;overflow: hidden;padding: 0;position: absolute;width: 1px;}#sk-container-id-7 div.sk-estimator {font-family: monospace;background-color: #f0f8ff;border: 1px dotted black;border-radius: 0.25em;box-sizing: border-box;margin-bottom: 0.5em;}#sk-container-id-7 div.sk-estimator:hover {background-color: #d4ebff;}#sk-container-id-7 div.sk-parallel-item::after {content: \"\";width: 100%;border-bottom: 1px solid gray;flex-grow: 1;}#sk-container-id-7 div.sk-label:hover label.sk-toggleable__label {background-color: #d4ebff;}#sk-container-id-7 div.sk-serial::before {content: \"\";position: absolute;border-left: 1px solid gray;box-sizing: border-box;top: 0;bottom: 0;left: 50%;z-index: 0;}#sk-container-id-7 div.sk-serial {display: flex;flex-direction: column;align-items: center;background-color: white;padding-right: 0.2em;padding-left: 0.2em;position: relative;}#sk-container-id-7 div.sk-item {position: relative;z-index: 1;}#sk-container-id-7 div.sk-parallel {display: flex;align-items: stretch;justify-content: center;background-color: white;position: relative;}#sk-container-id-7 div.sk-item::before, #sk-container-id-7 div.sk-parallel-item::before {content: \"\";position: absolute;border-left: 1px solid gray;box-sizing: border-box;top: 0;bottom: 0;left: 50%;z-index: -1;}#sk-container-id-7 div.sk-parallel-item {display: flex;flex-direction: column;z-index: 1;position: relative;background-color: white;}#sk-container-id-7 div.sk-parallel-item:first-child::after {align-self: flex-end;width: 50%;}#sk-container-id-7 div.sk-parallel-item:last-child::after {align-self: flex-start;width: 50%;}#sk-container-id-7 div.sk-parallel-item:only-child::after {width: 0;}#sk-container-id-7 div.sk-dashed-wrapped {border: 1px dashed gray;margin: 0 0.4em 0.5em 0.4em;box-sizing: border-box;padding-bottom: 0.4em;background-color: white;}#sk-container-id-7 div.sk-label label {font-family: monospace;font-weight: bold;display: inline-block;line-height: 1.2em;}#sk-container-id-7 div.sk-label-container {text-align: center;}#sk-container-id-7 div.sk-container {/* jupyter's `normalize.less` sets `[hidden] { display: none; }` but bootstrap.min.css set `[hidden] { display: none !important; }` so we also need the `!important` here to be able to override the default hidden behavior on the sphinx rendered scikit-learn.org. See: https://github.com/scikit-learn/scikit-learn/issues/21755 */display: inline-block !important;position: relative;}#sk-container-id-7 div.sk-text-repr-fallback {display: none;}</style><div id=\"sk-container-id-7\" class=\"sk-top-container\"><div class=\"sk-text-repr-fallback\"><pre>GradientBoostingRegressor(max_depth=750, n_estimators=120)</pre><b>In a Jupyter environment, please rerun this cell to show the HTML representation or trust the notebook. <br />On GitHub, the HTML representation is unable to render, please try loading this page with nbviewer.org.</b></div><div class=\"sk-container\" hidden><div class=\"sk-item\"><div class=\"sk-estimator sk-toggleable\"><input class=\"sk-toggleable__control sk-hidden--visually\" id=\"sk-estimator-id-7\" type=\"checkbox\" checked><label for=\"sk-estimator-id-7\" class=\"sk-toggleable__label sk-toggleable__label-arrow\">GradientBoostingRegressor</label><div class=\"sk-toggleable__content\"><pre>GradientBoostingRegressor(max_depth=750, n_estimators=120)</pre></div></div></div></div></div>"
      ],
      "text/plain": [
       "GradientBoostingRegressor(max_depth=750, n_estimators=120)"
      ]
     },
     "execution_count": 90,
     "metadata": {},
     "output_type": "execute_result"
    }
   ],
   "source": [
    "model = RandomForestClassifier(n_estimators=120, max_depth=750)\n",
    "model.fit(X_train, y_train)"
   ]
  },
  {
   "cell_type": "code",
   "execution_count": 91,
   "metadata": {},
   "outputs": [],
   "source": [
    "def metrics(y_true, y_pred):\n",
    "    ROUND = 5\n",
    "    print(f\"Pearson R: {pearsonr(y_true, y_pred).statistic.round(ROUND)}\")\n",
    "    print(f\"Spearman R: {spearmanr(y_true, y_pred).statistic.round(ROUND)}\")\n",
    "    print(f\"MAE: {mean_absolute_error(y_true, y_pred).round(ROUND)}\")\n",
    "    print(f\"MSE: {mean_squared_error(y_true, y_pred).round(ROUND)}\")"
   ]
  },
  {
   "cell_type": "code",
   "execution_count": 92,
   "metadata": {},
   "outputs": [
    {
     "name": "stdout",
     "output_type": "stream",
     "text": [
      "Pearson R: 0.42013\n",
      "Spearman R: 0.49618\n",
      "MAE: 0.07891\n",
      "MSE: 0.01582\n"
     ]
    },
    {
     "data": {
      "text/html": [
       "<div>\n",
       "<style scoped>\n",
       "    .dataframe tbody tr th:only-of-type {\n",
       "        vertical-align: middle;\n",
       "    }\n",
       "\n",
       "    .dataframe tbody tr th {\n",
       "        vertical-align: top;\n",
       "    }\n",
       "\n",
       "    .dataframe thead th {\n",
       "        text-align: right;\n",
       "    }\n",
       "</style>\n",
       "<table border=\"1\" class=\"dataframe\">\n",
       "  <thead>\n",
       "    <tr style=\"text-align: right;\">\n",
       "      <th></th>\n",
       "      <th>sent</th>\n",
       "      <th>target</th>\n",
       "      <th>bin</th>\n",
       "      <th>prob</th>\n",
       "      <th>target_len</th>\n",
       "      <th>lemma</th>\n",
       "      <th>pos_tag</th>\n",
       "      <th>lemma_freq</th>\n",
       "      <th>y_true</th>\n",
       "      <th>y_pred</th>\n",
       "    </tr>\n",
       "  </thead>\n",
       "  <tbody>\n",
       "    <tr>\n",
       "      <th>0</th>\n",
       "      <td>Los Bronces de Riace conocidos también como Lo...</td>\n",
       "      <td>Los Bronces de Riace</td>\n",
       "      <td>1</td>\n",
       "      <td>0.1</td>\n",
       "      <td>20</td>\n",
       "      <td>Los Bronces de Riace</td>\n",
       "      <td>NN</td>\n",
       "      <td>0</td>\n",
       "      <td>0.1</td>\n",
       "      <td>0.200000</td>\n",
       "    </tr>\n",
       "    <tr>\n",
       "      <th>1</th>\n",
       "      <td>Los Bronces de Riace conocidos también como Lo...</td>\n",
       "      <td>Bronces</td>\n",
       "      <td>1</td>\n",
       "      <td>0.2</td>\n",
       "      <td>7</td>\n",
       "      <td>Bronces</td>\n",
       "      <td>NNS</td>\n",
       "      <td>0</td>\n",
       "      <td>0.2</td>\n",
       "      <td>0.050000</td>\n",
       "    </tr>\n",
       "    <tr>\n",
       "      <th>2</th>\n",
       "      <td>Los Bronces de Riace conocidos también como Lo...</td>\n",
       "      <td>Riace</td>\n",
       "      <td>1</td>\n",
       "      <td>0.3</td>\n",
       "      <td>5</td>\n",
       "      <td>Riace</td>\n",
       "      <td>NN</td>\n",
       "      <td>0</td>\n",
       "      <td>0.3</td>\n",
       "      <td>0.033541</td>\n",
       "    </tr>\n",
       "    <tr>\n",
       "      <th>3</th>\n",
       "      <td>Los Bronces de Riace conocidos también como Lo...</td>\n",
       "      <td>griegas</td>\n",
       "      <td>1</td>\n",
       "      <td>0.1</td>\n",
       "      <td>7</td>\n",
       "      <td>griegas</td>\n",
       "      <td>NN</td>\n",
       "      <td>0</td>\n",
       "      <td>0.1</td>\n",
       "      <td>0.050000</td>\n",
       "    </tr>\n",
       "    <tr>\n",
       "      <th>4</th>\n",
       "      <td>Los Bronces de Riace conocidos también como Lo...</td>\n",
       "      <td>conocidos</td>\n",
       "      <td>0</td>\n",
       "      <td>0.0</td>\n",
       "      <td>9</td>\n",
       "      <td>conocidos</td>\n",
       "      <td>NN</td>\n",
       "      <td>0</td>\n",
       "      <td>0.0</td>\n",
       "      <td>0.076875</td>\n",
       "    </tr>\n",
       "    <tr>\n",
       "      <th>...</th>\n",
       "      <td>...</td>\n",
       "      <td>...</td>\n",
       "      <td>...</td>\n",
       "      <td>...</td>\n",
       "      <td>...</td>\n",
       "      <td>...</td>\n",
       "      <td>...</td>\n",
       "      <td>...</td>\n",
       "      <td>...</td>\n",
       "      <td>...</td>\n",
       "    </tr>\n",
       "    <tr>\n",
       "      <th>1617</th>\n",
       "      <td>Esto no gusto en la cúpula del ejército, que e...</td>\n",
       "      <td>exigía</td>\n",
       "      <td>1</td>\n",
       "      <td>0.1</td>\n",
       "      <td>6</td>\n",
       "      <td>exigía</td>\n",
       "      <td>NN</td>\n",
       "      <td>0</td>\n",
       "      <td>0.1</td>\n",
       "      <td>0.041667</td>\n",
       "    </tr>\n",
       "    <tr>\n",
       "      <th>1618</th>\n",
       "      <td>Esto no gusto en la cúpula del ejército, que e...</td>\n",
       "      <td>ejército</td>\n",
       "      <td>0</td>\n",
       "      <td>0.0</td>\n",
       "      <td>8</td>\n",
       "      <td>ejército</td>\n",
       "      <td>NN</td>\n",
       "      <td>0</td>\n",
       "      <td>0.0</td>\n",
       "      <td>0.072105</td>\n",
       "    </tr>\n",
       "    <tr>\n",
       "      <th>1619</th>\n",
       "      <td>Esto no gusto en la cúpula del ejército, que e...</td>\n",
       "      <td>duras</td>\n",
       "      <td>0</td>\n",
       "      <td>0.0</td>\n",
       "      <td>5</td>\n",
       "      <td>dura</td>\n",
       "      <td>NNS</td>\n",
       "      <td>0</td>\n",
       "      <td>0.0</td>\n",
       "      <td>0.033541</td>\n",
       "    </tr>\n",
       "    <tr>\n",
       "      <th>1620</th>\n",
       "      <td>Esto no gusto en la cúpula del ejército, que e...</td>\n",
       "      <td>condenas</td>\n",
       "      <td>0</td>\n",
       "      <td>0.0</td>\n",
       "      <td>8</td>\n",
       "      <td>condenas</td>\n",
       "      <td>NNS</td>\n",
       "      <td>0</td>\n",
       "      <td>0.0</td>\n",
       "      <td>0.072105</td>\n",
       "    </tr>\n",
       "    <tr>\n",
       "      <th>1621</th>\n",
       "      <td>Esto no gusto en la cúpula del ejército, que e...</td>\n",
       "      <td>golpistas</td>\n",
       "      <td>0</td>\n",
       "      <td>0.0</td>\n",
       "      <td>9</td>\n",
       "      <td>golpistas</td>\n",
       "      <td>NNS</td>\n",
       "      <td>0</td>\n",
       "      <td>0.0</td>\n",
       "      <td>0.076875</td>\n",
       "    </tr>\n",
       "  </tbody>\n",
       "</table>\n",
       "<p>1622 rows × 10 columns</p>\n",
       "</div>"
      ],
      "text/plain": [
       "                                                   sent                target  \\\n",
       "0     Los Bronces de Riace conocidos también como Lo...  Los Bronces de Riace   \n",
       "1     Los Bronces de Riace conocidos también como Lo...               Bronces   \n",
       "2     Los Bronces de Riace conocidos también como Lo...                 Riace   \n",
       "3     Los Bronces de Riace conocidos también como Lo...               griegas   \n",
       "4     Los Bronces de Riace conocidos también como Lo...             conocidos   \n",
       "...                                                 ...                   ...   \n",
       "1617  Esto no gusto en la cúpula del ejército, que e...                exigía   \n",
       "1618  Esto no gusto en la cúpula del ejército, que e...              ejército   \n",
       "1619  Esto no gusto en la cúpula del ejército, que e...                 duras   \n",
       "1620  Esto no gusto en la cúpula del ejército, que e...              condenas   \n",
       "1621  Esto no gusto en la cúpula del ejército, que e...             golpistas   \n",
       "\n",
       "      bin  prob  target_len                 lemma pos_tag  lemma_freq  y_true  \\\n",
       "0       1   0.1          20  Los Bronces de Riace      NN           0     0.1   \n",
       "1       1   0.2           7               Bronces     NNS           0     0.2   \n",
       "2       1   0.3           5                 Riace      NN           0     0.3   \n",
       "3       1   0.1           7               griegas      NN           0     0.1   \n",
       "4       0   0.0           9             conocidos      NN           0     0.0   \n",
       "...   ...   ...         ...                   ...     ...         ...     ...   \n",
       "1617    1   0.1           6                exigía      NN           0     0.1   \n",
       "1618    0   0.0           8              ejército      NN           0     0.0   \n",
       "1619    0   0.0           5                  dura     NNS           0     0.0   \n",
       "1620    0   0.0           8              condenas     NNS           0     0.0   \n",
       "1621    0   0.0           9             golpistas     NNS           0     0.0   \n",
       "\n",
       "        y_pred  \n",
       "0     0.200000  \n",
       "1     0.050000  \n",
       "2     0.033541  \n",
       "3     0.050000  \n",
       "4     0.076875  \n",
       "...        ...  \n",
       "1617  0.041667  \n",
       "1618  0.072105  \n",
       "1619  0.033541  \n",
       "1620  0.072105  \n",
       "1621  0.076875  \n",
       "\n",
       "[1622 rows x 10 columns]"
      ]
     },
     "execution_count": 92,
     "metadata": {},
     "output_type": "execute_result"
    }
   ],
   "source": [
    "y_pred = model.predict(X_test)\n",
    "y_true = np.array(y_test['prob'])\n",
    "metrics(y_true, y_pred)\n",
    "\n",
    "result = test_df\n",
    "result['y_true'] = y_true\n",
    "result['y_pred'] = y_pred\n",
    "result"
   ]
  },
  {
   "cell_type": "code",
   "execution_count": 93,
   "metadata": {},
   "outputs": [
    {
     "data": {
      "text/plain": [
       "['lcp.joblib']"
      ]
     },
     "execution_count": 93,
     "metadata": {},
     "output_type": "execute_result"
    }
   ],
   "source": [
    "dump(model, 'lcp.joblib') "
   ]
  }
 ],
 "metadata": {
  "kernelspec": {
   "display_name": "base",
   "language": "python",
   "name": "python3"
  },
  "language_info": {
   "codemirror_mode": {
    "name": "ipython",
    "version": 3
   },
   "file_extension": ".py",
   "mimetype": "text/x-python",
   "name": "python",
   "nbconvert_exporter": "python",
   "pygments_lexer": "ipython3",
   "version": "3.10.12"
  }
 },
 "nbformat": 4,
 "nbformat_minor": 2
}
