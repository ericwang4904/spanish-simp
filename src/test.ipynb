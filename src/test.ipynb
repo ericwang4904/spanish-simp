{
 "cells": [
  {
   "cell_type": "code",
   "execution_count": 43,
   "metadata": {},
   "outputs": [],
   "source": [
    "import nltk\n",
    "from nltk import sent_tokenize, word_tokenize\n",
    "from link_to_text import *\n",
    "import regex as re\n",
    "from string import punctuation as PUNCT\n",
    "import pandas as pd\n",
    "import numpy as np\n",
    "\n",
    "from lcp import LCP"
   ]
  },
  {
   "cell_type": "code",
   "execution_count": 44,
   "metadata": {},
   "outputs": [],
   "source": [
    "lcp = LCP(6.2)"
   ]
  },
  {
   "cell_type": "code",
   "execution_count": 45,
   "metadata": {},
   "outputs": [],
   "source": [
    "url = 'https://www.lifeder.com/identidad-personal/'\n",
    "rawtext = rawtext_from_url(url)\n",
    "ftext = re.sub(\"\\n\", \" \", rawtext)\n",
    "\n",
    "sent = sent_tokenize(ftext, language='spanish')\n",
    "\n",
    "word = []\n",
    "for t in sent:\n",
    "    ft = re.sub(f'[{PUNCT}]', '', t)  # removes ascii punctuation\n",
    "    word.append(word_tokenize(ft))"
   ]
  },
  {
   "cell_type": "code",
   "execution_count": 46,
   "metadata": {},
   "outputs": [],
   "source": [
    "complex_mask = [lcp.return_complex(sent,wl) for sent,wl in zip(sent,word)]"
   ]
  }
 ],
 "metadata": {
  "kernelspec": {
   "display_name": "base",
   "language": "python",
   "name": "python3"
  },
  "language_info": {
   "codemirror_mode": {
    "name": "ipython",
    "version": 3
   },
   "file_extension": ".py",
   "mimetype": "text/x-python",
   "name": "python",
   "nbconvert_exporter": "python",
   "pygments_lexer": "ipython3",
   "version": "3.10.12"
  }
 },
 "nbformat": 4,
 "nbformat_minor": 2
}
